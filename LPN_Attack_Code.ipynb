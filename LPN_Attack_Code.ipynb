{
 "cells": [
  {
   "cell_type": "code",
   "execution_count": 4,
   "metadata": {
    "collapsed": false
   },
   "outputs": [
    {
     "name": "stdout",
     "output_type": "stream",
     "text": [
      "29\n",
      "Number of samples:  5\n",
      "Number of variables:  5\n",
      "Error count:  2\n"
     ]
    }
   ],
   "source": [
    "import numpy as np\n",
    "import random\n",
    "from math import log\n",
    "\n",
    "# Generate random prime\n",
    "nbits = 5\n",
    "randPrime = random_prime(2^(nbits), false, 2^(nbits-1))\n",
    "print(randPrime)\n",
    "\n",
    "# Parameters\n",
    "dim = 3\n",
    "samples = 5\n",
    "expError = 2\n",
    "q = randPrime\n",
    "m = samples\n",
    "n = dim\n",
    "\n",
    "\n",
    "\n",
    "M1Test = MatrixSpace(GF(randPrime), samples, dim)\n",
    "M2Test = MatrixSpace(GF(randPrime), dim, 1)\n",
    "M3Test = MatrixSpace(GF(randPrime), samples, 1)\n",
    "\n",
    "# Fix the error and (binary) secret\n",
    "# secret = M2Test([GF(randPrime).random_element() for i in range(dim)])\n",
    "secret = M2Test(np.random.randint(q, size=(n,1)))\n",
    "error_bools = np.random.binomial(1,expError/samples,size=(samples,1))\n",
    "numErrors = int(np.sum(error_bools))\n",
    "\n",
    "# while (samples - numErrors < dim):\n",
    "#     error_bools = np.random.binomial(1,expError/samples,size=(samples,1))\n",
    "#     numErrors = int(np.sum(error_bools))\n",
    "\n",
    "# Generate random LPN instance\n",
    "def gen_lpn(m,n,q,s,errorIndicator,numErr):\n",
    "    A = M1Test([[GF(q).random_element() for i in range(n)] for j in range(m)])\n",
    "    errors = [GF(q).random_element()*errorIndicator[i] for i in range(m)]\n",
    "    B = M3Test(A*s) + M3Test(errors)\n",
    "    return (A,B,numErr)\n",
    "\n",
    "# Fixed LPN Instance\n",
    "(A, B, numErrors) = gen_lpn(samples, dim, randPrime, secret,  error_bools, numErrors)\n",
    "\n",
    "print(\"Number of samples: \", samples)\n",
    "print(\"Number of variables: \", samples)\n",
    "print(\"Error count: \", numErrors)"
   ]
  },
  {
   "cell_type": "code",
   "execution_count": 5,
   "metadata": {
    "collapsed": false
   },
   "outputs": [
   ],
   "source": [
    "# Make a coefficient vector for equation\n",
    "def getCoeffs(p,convert):\n",
    "    res = [0 for i in range(len(convert))]\n",
    "    for (coeff,v) in p:\n",
    "        res[convert[str(v)]] = coeff\n",
    "    return res\n",
    "\n",
    "# # Make a coefficient vector for equation BUT\n",
    "# # We know some monomials are zero, so we can set their coeffcients to 0\n",
    "def getCoeffs(p,convert,zeroed_out=set()):\n",
    "    res = [0 for i in range(len(convert))]\n",
    "    for (coeff,v) in p:\n",
    "        if str(v) in zeroed_out: continue # the monomial v has been set to 0\n",
    "        res[convert[str(v)]] = coeff\n",
    "    return res\n",
    "\n",
    "def get_all_monos(n,m,D,R):\n",
    "    allVars = []\n",
    "    for D_iter in range(D+1):\n",
    "        degs = WeightedIntegerVectors(D_iter, [1 for i in range(n+m)])\n",
    "        for deg in degs:\n",
    "            res = 1\n",
    "            for i in range(n+m):\n",
    "                v = R('x'+str(i))\n",
    "                res *= v**(deg[i])\n",
    "            allVars.append(res)\n",
    "    allVars.sort()\n",
    "    return allVars\n",
    "    \n",
    "\n",
    "def remove_high_deg_monos(m,n,high_deg,k,R):\n",
    "    zero_monos = set()\n",
    "    elts = [n+i for i in range(m)]\n",
    "    for i in range(k):\n",
    "        mono = None\n",
    "        while True:\n",
    "            guess = np.random.choice(elts,size=high_deg,replace=False)\n",
    "            mono = R(1)\n",
    "            for j in guess:\n",
    "                mono *= R('x'+str(j))\n",
    "            mono = str(mono)\n",
    "            if mono not in zero_monos: break\n",
    "        zero_monos.add(mono)\n",
    "    return zero_monos\n",
    "\n",
    "def increase_zero_monos(zero_monos,k,D,R):\n",
    "    d = D-k\n",
    "    half_vars = get_all_monos(n,m,d,R)[1:]\n",
    "    for i in zero_monos:\n",
    "        for j in half_vars:\n",
    "            mono = str(i*j)\n",
    "            zero_monos.add(mono)\n",
    "    return zero_monos\n",
    "    \n",
    "    \n",
    "\n",
    "def determine_num_rand_eqns(n,m,d,numErrors,delta=0.4):\n",
    "    alpha = log(m,n) - 1\n",
    "    eps = 1 + alpha - log(numErrors,n)\n",
    "    eps_prime = log(d,n) - eps\n",
    "    num_rand_eqns = int(-log(1-delta) * 2**(n**eps_prime))\n",
    "    print('k',num_rand_eqns)\n",
    "    print('eps_prime',eps_prime)\n",
    "    return num_rand_eqns\n",
    "    \n",
    "    \n",
    "def checkMonomial(v,d,n,m):\n",
    "    if v.degree() > d: return False\n",
    "    return True\n",
    "\n",
    "# Expansion by s_i's up to degree D\n",
    "def expand(d,R,m,n,A,B,numErrors,rem_high_deg=False):\n",
    "    # Maximal expansion degree\n",
    "    D = d+2\n",
    "    usedVars = set()\n",
    "    \n",
    "    # Produce all variables up to degree D\n",
    "    # x_0,...,x_(n-1) are components of secret vector s\n",
    "    # x_n,...,x_(n+m-1) are the alpha_i s\n",
    "    allVars = get_all_monos(n,m,D,R)\n",
    "    \n",
    "    # Mapping of monomial to position in the ordering of all monomials\n",
    "    convert = dict()\n",
    "    for i in range(len(allVars)):\n",
    "        convert[str(allVars[i])] = i\n",
    "    \n",
    "    # Populate Macaulay matrix\n",
    "    macaulay_matrix = []\n",
    "    for i in range(m):\n",
    "        # Eqns. of the form: alpha_i * (<a_i, s> - b_i) = 0\n",
    "        p = R(-B[i])\n",
    "        for j in range(n):\n",
    "            p += R(A[i][j]) * R('x'+str(j))\n",
    "        p = R('x'+str(n+i)) * p\n",
    "        \n",
    "        # Eqn. of the form: alpha_i**2 - alpha_i\n",
    "        p2 = R('x'+str(n+i))*R('x'+str(n+i)) - R('x'+str(n+i))\n",
    "        for v in allVars:\n",
    "            if checkMonomial(v,d,n,m):\n",
    "                temp = v*p\n",
    "                res = getCoeffs(temp,convert)\n",
    "                macaulay_matrix.append(res)\n",
    "\n",
    "                temp = v*p2\n",
    "                res = getCoeffs(v*p2,convert)\n",
    "                macaulay_matrix.append(res)\n",
    "\n",
    "    # Polynomial that gueses number of errors\n",
    "    # (m - t) - \\sum_{i=1}^m \\alpha_i = 0\n",
    "    p3 = R(numErrors - m)\n",
    "    for i in range(m):\n",
    "        p3 += R('x'+str(n+i))\n",
    "    for v in allVars:\n",
    "        if checkMonomial(v,d,n,m):\n",
    "            temp = v*p3\n",
    "            res = getCoeffs(temp,convert)\n",
    "            macaulay_matrix.append(res)\n",
    "    if rem_high_deg:\n",
    "        high_deg = d # SET APPROPRIATELY\n",
    "        k = determine_num_rand_eqns(n,m,d,numErrors,delta=0.1) # SET APPROPRIATELY\n",
    "        zero_monos = remove_high_deg_monos(m,n,high_deg,k,R)\n",
    "        zero_monos = increase_zero_monos(zero_monos,k,D,R)\n",
    "        for mono in zero_monos:\n",
    "            macaulay_matrix.append(getCoeffs(mono,convert))\n",
    "        \n",
    "        \n",
    "\n",
    "    macaulay_matrix = np.array(macaulay_matrix)\n",
    "\n",
    "    # in row of variables, the first variable is just the constant 1\n",
    "    row = np.zeros(shape=(1,len(macaulay_matrix[0])))\n",
    "    row[0][0] = 1\n",
    "    macaulay_matrix = np.append(row,macaulay_matrix,axis=0)\n",
    "\n",
    "    numEqns = len(macaulay_matrix)\n",
    "    numVars = len(macaulay_matrix[0])\n",
    "\n",
    "    M4 = MatrixSpace(R, numEqns, numVars, sparse=True)\n",
    "    macaulay_matrix = M4(macaulay_matrix)\n",
    "    rank = macaulay_matrix.rank()\n",
    "    return [rank,numVars]"
   ]
  },
  {
   "cell_type": "code",
   "execution_count": 6,
   "metadata": {
    "collapsed": false
   },
   "outputs": [
    {
     "name": "stdout",
     "output_type": "stream",
     "text": [
      "k 0\n",
      "eps_prime 0.16595623285353056\n"
     ]
    },
    {
     "ename": "KeyboardInterrupt",
     "evalue": "",
     "output_type": "error",
     "traceback": [
      "\u001b[0;31m---------------------------------------------------------------------------\u001b[0m",
      "\u001b[0;31mKeyboardInterrupt\u001b[0m                         Traceback (most recent call last)",
      "\u001b[0;32m<ipython-input-6-a726ce7a1c36>\u001b[0m in \u001b[0;36m<module>\u001b[0;34m\u001b[0m\n\u001b[1;32m      2\u001b[0m \u001b[0mmac_degs\u001b[0m \u001b[0;34m=\u001b[0m \u001b[0mlist\u001b[0m\u001b[0;34m(\u001b[0m\u001b[0mrange\u001b[0m\u001b[0;34m(\u001b[0m\u001b[0mInteger\u001b[0m\u001b[0;34m(\u001b[0m\u001b[0;36m3\u001b[0m\u001b[0;34m)\u001b[0m\u001b[0;34m,\u001b[0m\u001b[0mInteger\u001b[0m\u001b[0;34m(\u001b[0m\u001b[0;36m4\u001b[0m\u001b[0;34m)\u001b[0m\u001b[0;34m)\u001b[0m\u001b[0;34m)\u001b[0m\u001b[0;34m\u001b[0m\u001b[0;34m\u001b[0m\u001b[0m\n\u001b[1;32m      3\u001b[0m \u001b[0;32mfor\u001b[0m \u001b[0mmac_deg\u001b[0m \u001b[0;32min\u001b[0m \u001b[0mmac_degs\u001b[0m\u001b[0;34m:\u001b[0m\u001b[0;34m\u001b[0m\u001b[0;34m\u001b[0m\u001b[0m\n\u001b[0;32m----> 4\u001b[0;31m     \u001b[0mrank\u001b[0m\u001b[0;34m,\u001b[0m \u001b[0mnumVars\u001b[0m \u001b[0;34m=\u001b[0m \u001b[0mexpand\u001b[0m\u001b[0;34m(\u001b[0m\u001b[0mmac_deg\u001b[0m\u001b[0;34m,\u001b[0m \u001b[0mGFqX\u001b[0m\u001b[0;34m,\u001b[0m \u001b[0msamples\u001b[0m\u001b[0;34m,\u001b[0m \u001b[0mdim\u001b[0m\u001b[0;34m,\u001b[0m \u001b[0mA\u001b[0m\u001b[0;34m,\u001b[0m \u001b[0mB\u001b[0m\u001b[0;34m,\u001b[0m \u001b[0mnumErrors\u001b[0m\u001b[0;34m,\u001b[0m \u001b[0mrem_high_deg\u001b[0m\u001b[0;34m=\u001b[0m\u001b[0;32mTrue\u001b[0m\u001b[0;34m)\u001b[0m\u001b[0;34m\u001b[0m\u001b[0;34m\u001b[0m\u001b[0m\n\u001b[0m\u001b[1;32m      5\u001b[0m     \u001b[0mprint\u001b[0m\u001b[0;34m(\u001b[0m\u001b[0;34m\"Degree of Expansion: \"\u001b[0m\u001b[0;34m,\u001b[0m \u001b[0mmac_deg\u001b[0m\u001b[0;34m)\u001b[0m\u001b[0;34m\u001b[0m\u001b[0;34m\u001b[0m\u001b[0m\n\u001b[1;32m      6\u001b[0m     \u001b[0mprint\u001b[0m\u001b[0;34m(\u001b[0m\u001b[0;34m\"Rank: \"\u001b[0m\u001b[0;34m,\u001b[0m \u001b[0mrank\u001b[0m\u001b[0;34m,\u001b[0m \u001b[0;34m\"\\nNumber of variables: \"\u001b[0m\u001b[0;34m,\u001b[0m \u001b[0mnumVars\u001b[0m\u001b[0;34m)\u001b[0m\u001b[0;34m\u001b[0m\u001b[0;34m\u001b[0m\u001b[0m\n",
      "\u001b[0;32m<ipython-input-5-5a357cb9c624>\u001b[0m in \u001b[0;36mexpand\u001b[0;34m(d, R, m, n, A, B, numErrors, rem_high_deg)\u001b[0m\n\u001b[1;32m    137\u001b[0m \u001b[0;34m\u001b[0m\u001b[0m\n\u001b[1;32m    138\u001b[0m     \u001b[0mM4\u001b[0m \u001b[0;34m=\u001b[0m \u001b[0mMatrixSpace\u001b[0m\u001b[0;34m(\u001b[0m\u001b[0mR\u001b[0m\u001b[0;34m,\u001b[0m \u001b[0mnumEqns\u001b[0m\u001b[0;34m,\u001b[0m \u001b[0mnumVars\u001b[0m\u001b[0;34m,\u001b[0m \u001b[0msparse\u001b[0m\u001b[0;34m=\u001b[0m\u001b[0;32mTrue\u001b[0m\u001b[0;34m)\u001b[0m\u001b[0;34m\u001b[0m\u001b[0;34m\u001b[0m\u001b[0m\n\u001b[0;32m--> 139\u001b[0;31m     \u001b[0mmacaulay_matrix\u001b[0m \u001b[0;34m=\u001b[0m \u001b[0mM4\u001b[0m\u001b[0;34m(\u001b[0m\u001b[0mmacaulay_matrix\u001b[0m\u001b[0;34m)\u001b[0m\u001b[0;34m\u001b[0m\u001b[0;34m\u001b[0m\u001b[0m\n\u001b[0m\u001b[1;32m    140\u001b[0m     \u001b[0mrank\u001b[0m \u001b[0;34m=\u001b[0m \u001b[0mmacaulay_matrix\u001b[0m\u001b[0;34m.\u001b[0m\u001b[0mrank\u001b[0m\u001b[0;34m(\u001b[0m\u001b[0;34m)\u001b[0m\u001b[0;34m\u001b[0m\u001b[0;34m\u001b[0m\u001b[0m\n\u001b[1;32m    141\u001b[0m     \u001b[0;32mreturn\u001b[0m \u001b[0;34m[\u001b[0m\u001b[0mrank\u001b[0m\u001b[0;34m,\u001b[0m\u001b[0mnumVars\u001b[0m\u001b[0;34m]\u001b[0m\u001b[0;34m\u001b[0m\u001b[0;34m\u001b[0m\u001b[0m\n",
      "\u001b[0;32m/ext/sage/sage-9.3/local/lib/python3.9/site-packages/sage/matrix/matrix_space.py\u001b[0m in \u001b[0;36m__call__\u001b[0;34m(self, entries, coerce, copy)\u001b[0m\n\u001b[1;32m    848\u001b[0m             \u001b[0;34m[\u001b[0m\u001b[0mt\u001b[0m\u001b[0;34m]\u001b[0m\u001b[0;34m\u001b[0m\u001b[0;34m\u001b[0m\u001b[0m\n\u001b[1;32m    849\u001b[0m         \"\"\"\n\u001b[0;32m--> 850\u001b[0;31m         \u001b[0;32mreturn\u001b[0m \u001b[0mself\u001b[0m\u001b[0;34m.\u001b[0m\u001b[0melement_class\u001b[0m\u001b[0;34m(\u001b[0m\u001b[0mself\u001b[0m\u001b[0;34m,\u001b[0m \u001b[0mentries\u001b[0m\u001b[0;34m,\u001b[0m \u001b[0mcopy\u001b[0m\u001b[0;34m,\u001b[0m \u001b[0mcoerce\u001b[0m\u001b[0;34m)\u001b[0m\u001b[0;34m\u001b[0m\u001b[0;34m\u001b[0m\u001b[0m\n\u001b[0m\u001b[1;32m    851\u001b[0m \u001b[0;34m\u001b[0m\u001b[0m\n\u001b[1;32m    852\u001b[0m     \u001b[0;32mdef\u001b[0m \u001b[0mchange_ring\u001b[0m\u001b[0;34m(\u001b[0m\u001b[0mself\u001b[0m\u001b[0;34m,\u001b[0m \u001b[0mR\u001b[0m\u001b[0;34m)\u001b[0m\u001b[0;34m:\u001b[0m\u001b[0;34m\u001b[0m\u001b[0;34m\u001b[0m\u001b[0m\n",
      "\u001b[0;32m/ext/sage/sage-9.3/local/lib/python3.9/site-packages/sage/matrix/matrix_generic_sparse.pyx\u001b[0m in \u001b[0;36msage.matrix.matrix_generic_sparse.Matrix_generic_sparse.__init__ (build/cythonized/sage/matrix/matrix_generic_sparse.c:3198)\u001b[0;34m()\u001b[0m\n\u001b[1;32m    168\u001b[0m         \"\"\"\n\u001b[1;32m    169\u001b[0m         \u001b[0mma\u001b[0m \u001b[0;34m=\u001b[0m \u001b[0mMatrixArgs_init\u001b[0m\u001b[0;34m(\u001b[0m\u001b[0mparent\u001b[0m\u001b[0;34m,\u001b[0m \u001b[0mentries\u001b[0m\u001b[0;34m)\u001b[0m\u001b[0;34m\u001b[0m\u001b[0;34m\u001b[0m\u001b[0m\n\u001b[0;32m--> 170\u001b[0;31m         \u001b[0mself\u001b[0m\u001b[0;34m.\u001b[0m\u001b[0m_entries\u001b[0m \u001b[0;34m=\u001b[0m \u001b[0mma\u001b[0m\u001b[0;34m.\u001b[0m\u001b[0mdict\u001b[0m\u001b[0;34m(\u001b[0m\u001b[0mcoerce\u001b[0m\u001b[0;34m)\u001b[0m\u001b[0;34m\u001b[0m\u001b[0;34m\u001b[0m\u001b[0m\n\u001b[0m\u001b[1;32m    171\u001b[0m \u001b[0;34m\u001b[0m\u001b[0m\n\u001b[1;32m    172\u001b[0m     \u001b[0;32mdef\u001b[0m \u001b[0m__nonzero__\u001b[0m\u001b[0;34m(\u001b[0m\u001b[0mself\u001b[0m\u001b[0;34m)\u001b[0m\u001b[0;34m:\u001b[0m\u001b[0;34m\u001b[0m\u001b[0;34m\u001b[0m\u001b[0m\n",
      "\u001b[0;32m/ext/sage/sage-9.3/local/lib/python3.9/site-packages/sage/matrix/args.pyx\u001b[0m in \u001b[0;36msage.matrix.args.MatrixArgs.dict (build/cythonized/sage/matrix/args.c:8809)\u001b[0;34m()\u001b[0m\n\u001b[1;32m    766\u001b[0m         \u001b[0mR\u001b[0m \u001b[0;34m=\u001b[0m \u001b[0mself\u001b[0m\u001b[0;34m.\u001b[0m\u001b[0mbase\u001b[0m\u001b[0;34m\u001b[0m\u001b[0;34m\u001b[0m\u001b[0m\n\u001b[1;32m    767\u001b[0m         \u001b[0mcdef\u001b[0m \u001b[0mdict\u001b[0m \u001b[0mD\u001b[0m \u001b[0;34m=\u001b[0m \u001b[0;34m{\u001b[0m\u001b[0;34m}\u001b[0m\u001b[0;34m\u001b[0m\u001b[0;34m\u001b[0m\u001b[0m\n\u001b[0;32m--> 768\u001b[0;31m         \u001b[0;32mfor\u001b[0m \u001b[0mt\u001b[0m \u001b[0;32min\u001b[0m \u001b[0mself\u001b[0m\u001b[0;34m.\u001b[0m\u001b[0miter\u001b[0m\u001b[0;34m(\u001b[0m\u001b[0mconvert\u001b[0m\u001b[0;34m,\u001b[0m \u001b[0;32mTrue\u001b[0m\u001b[0;34m)\u001b[0m\u001b[0;34m:\u001b[0m\u001b[0;34m\u001b[0m\u001b[0;34m\u001b[0m\u001b[0m\n\u001b[0m\u001b[1;32m    769\u001b[0m             \u001b[0mse\u001b[0m \u001b[0;34m=\u001b[0m \u001b[0;34m<\u001b[0m\u001b[0mSparseEntry\u001b[0m\u001b[0;34m>\u001b[0m\u001b[0mt\u001b[0m\u001b[0;34m\u001b[0m\u001b[0;34m\u001b[0m\u001b[0m\n\u001b[1;32m    770\u001b[0m             \u001b[0mx\u001b[0m \u001b[0;34m=\u001b[0m \u001b[0mse\u001b[0m\u001b[0;34m.\u001b[0m\u001b[0mentry\u001b[0m\u001b[0;34m\u001b[0m\u001b[0;34m\u001b[0m\u001b[0m\n",
      "\u001b[0;32m/ext/sage/sage-9.3/local/lib/python3.9/site-packages/sage/matrix/args.pyx\u001b[0m in \u001b[0;36miter (build/cythonized/sage/matrix/args.c:6418)\u001b[0;34m()\u001b[0m\n\u001b[1;32m    514\u001b[0m                 \u001b[0mrow\u001b[0m \u001b[0;34m=\u001b[0m \u001b[0msized_iter\u001b[0m\u001b[0;34m(\u001b[0m\u001b[0mnext\u001b[0m\u001b[0;34m(\u001b[0m\u001b[0mrow_iter\u001b[0m\u001b[0;34m)\u001b[0m\u001b[0;34m,\u001b[0m \u001b[0mself\u001b[0m\u001b[0;34m.\u001b[0m\u001b[0mncols\u001b[0m\u001b[0;34m)\u001b[0m\u001b[0;34m\u001b[0m\u001b[0;34m\u001b[0m\u001b[0m\n\u001b[1;32m    515\u001b[0m                 \u001b[0;32mfor\u001b[0m \u001b[0mj\u001b[0m \u001b[0;32min\u001b[0m \u001b[0mrange\u001b[0m\u001b[0;34m(\u001b[0m\u001b[0mself\u001b[0m\u001b[0;34m.\u001b[0m\u001b[0mncols\u001b[0m\u001b[0;34m)\u001b[0m\u001b[0;34m:\u001b[0m\u001b[0;34m\u001b[0m\u001b[0;34m\u001b[0m\u001b[0m\n\u001b[0;32m--> 516\u001b[0;31m                     \u001b[0msig_check\u001b[0m\u001b[0;34m(\u001b[0m\u001b[0;34m)\u001b[0m\u001b[0;34m\u001b[0m\u001b[0;34m\u001b[0m\u001b[0m\n\u001b[0m\u001b[1;32m    517\u001b[0m                     \u001b[0mx\u001b[0m \u001b[0;34m=\u001b[0m \u001b[0mnext\u001b[0m\u001b[0;34m(\u001b[0m\u001b[0mrow\u001b[0m\u001b[0;34m)\u001b[0m\u001b[0;34m\u001b[0m\u001b[0;34m\u001b[0m\u001b[0m\n\u001b[1;32m    518\u001b[0m                     \u001b[0;32mif\u001b[0m \u001b[0mconvert\u001b[0m \u001b[0;32mand\u001b[0m \u001b[0mself\u001b[0m\u001b[0;34m.\u001b[0m\u001b[0mneed_to_convert\u001b[0m\u001b[0;34m(\u001b[0m\u001b[0mx\u001b[0m\u001b[0;34m)\u001b[0m\u001b[0;34m:\u001b[0m\u001b[0;34m\u001b[0m\u001b[0;34m\u001b[0m\u001b[0m\n",
      "\u001b[0;31mKeyboardInterrupt\u001b[0m: "
     ]
    }
   ],
   "source": [
    "GFqX = PolynomialRing(GF(randPrime), samples + dim, 'x')\n",
    "mac_degs = list(range(3,4))\n",
    "for mac_deg in mac_degs:\n",
    "    rank, numVars = expand(mac_deg, GFqX, samples, dim, A, B, numErrors, rem_high_deg=True)\n",
    "    print(\"Degree of Expansion: \", mac_deg)\n",
    "    print(\"Rank: \", rank, \"\\nNumber of variables: \", numVars)\n",
    "    print(\"Ratio: \", rank/numVars)"
   ]
  },
  {
   "cell_type": "code",
   "execution_count": 0,
   "metadata": {
    "collapsed": false
   },
   "outputs": [
   ],
   "source": [
   ]
  },
  {
   "cell_type": "code",
   "execution_count": 0,
   "metadata": {
    "collapsed": false
   },
   "outputs": [
   ],
   "source": [
   ]
  }
 ],
 "metadata": {
  "kernelspec": {
   "display_name": "SageMath 9.3",
   "language": "sagemath",
   "metadata": {
    "cocalc": {
     "description": "Open-source mathematical software system",
     "priority": 1,
     "url": "https://www.sagemath.org/"
    }
   },
   "name": "sage-9.3",
   "resource_dir": "/ext/jupyter/kernels/sage-9.3"
  },
  "language_info": {
   "codemirror_mode": {
    "name": "ipython",
    "version": 3
   },
   "file_extension": ".py",
   "mimetype": "text/x-python",
   "name": "python",
   "nbconvert_exporter": "python",
   "pygments_lexer": "ipython3",
   "version": "3.9.2"
  }
 },
 "nbformat": 4,
 "nbformat_minor": 4
}